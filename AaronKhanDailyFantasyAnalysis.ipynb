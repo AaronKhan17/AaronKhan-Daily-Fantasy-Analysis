{
 "cells": [
  {
   "cell_type": "markdown",
   "metadata": {},
   "source": [
    "Data Import and Table Creation Using Postgres Through a Jupyter notebook"
   ]
  },
  {
   "cell_type": "code",
   "execution_count": null,
   "metadata": {},
   "outputs": [],
   "source": [
    "import psycopg2\n",
    "import pandas as pd\n",
    "from sqlalchemy import create_engine\n",
    "pd.set_option('display.max_rows', 500)\n",
    "pd.set_option('display.max_columns', 500)\n",
    "pd.set_option('display.max_colwidth', None)\n",
    "pd.set_option('display.width', 1000)\n",
    "pd.set_option('display.colheader_justify', 'left')\n",
    "pd.options.mode.chained_assignment = None \n",
    "\n",
    "\n",
    "\n",
    "conn = psycopg2.connect(\n",
    "   database=\"postgres\",\n",
    "    user='postgres',\n",
    "    password='password',\n",
    "    host='localhost',\n",
    "    port= '5432'\n",
    ")\n",
    " \n",
    "conn.autocommit = True\n",
    " \n",
    "# Creating a cursor object\n",
    "cursor = conn.cursor()\n",
    " \n",
    "# query to create a database\n",
    "sql = ''' CREATE database BIAnalystDB ''';\n",
    " \n",
    "# executing above query\n",
    "cursor.execute(sql)\n",
    "print(\"Database has been created successfully !!\");\n",
    " \n",
    "# Closing the connection\n",
    "conn.close()\n",
    "\n",
    "\n",
    "\n",
    "  \n",
    "\n",
    "  \n",
    "conn = psycopg2.connect(database=\"database\",\n",
    "                        user='username', password='password', \n",
    "                        host='127.0.0.1', port='5432'\n",
    ")\n",
    "  \n",
    "conn.autocommit = True\n",
    "cursor = conn.cursor()\n",
    "\n",
    "sql1 = '''CREATE TABLE entry_data(\n",
    "            entry_date Date,\n",
    "            league char(10),\n",
    "            player char(30),\n",
    "            user_id char(50),\n",
    "            entry_amount float);'''\n",
    "\n",
    "cursor.execute(sql1)\n",
    "\n",
    "sql4 = '''CREATE TABLE signup_data(\n",
    "            reg_date Date,\n",
    "            user_id char(100));'''\n",
    "  \n",
    "cursor.execute(sql4)\n",
    "  \n",
    "sql2 = '''COPY entry_data(entry_date,league,player,user_id,entry_amount)\n",
    "FROM 'C:\\Business Analyst Assessment\\Business_Analyst_Assessment_\\SA_entry_data.csv'\n",
    "DELIMITER ','\n",
    "CSV HEADER;'''\n",
    "\n",
    "cursor.execute(sql2)\n",
    "\n",
    "sql5 = '''COPY signup_data(user_id,reg_date)\n",
    "FROM 'C:\\Business Analyst Assessment\\Business_Analyst_Assessment_\\SA_signup_data.csv'\n",
    "DELIMITER ','\n",
    "CSV HEADER;'''\n",
    "\n",
    "cursor.execute(sql5)\n",
    "    \n",
    "sql3 = '''select * from entry_data;'''\n",
    "cursor.execute(sql3)\n",
    "for i in cursor.fetchall():\n",
    "    print(i)\n",
    "  \n",
    "# conn.commit()\n",
    "conn.close()\n",
    "\n"
   ]
  },
  {
   "attachments": {},
   "cell_type": "markdown",
   "metadata": {},
   "source": [
    "a) What is the total entry amount for all members who signed up in September, 2020?"
   ]
  },
  {
   "cell_type": "code",
   "execution_count": 8,
   "metadata": {},
   "outputs": [
    {
     "name": "stdout",
     "output_type": "stream",
     "text": [
      "   total_entry\n",
      "0  1495076.5  \n"
     ]
    }
   ],
   "source": [
    "\n",
    "conn = psycopg2.connect(database=\"database\",\n",
    "                        user='username', password='password', \n",
    "                        host='127.0.0.1', port='5432'\n",
    ")\n",
    "  \n",
    "conn.autocommit = True\n",
    "cursor = conn.cursor()\n",
    "\n",
    "sql ='''SELECT \n",
    "        sum(entry_amount) AS total_entry \n",
    "        FROM entry_data ed \n",
    "        JOIN signup_data sd ON sd.user_id = ed.user_id \n",
    "        WHERE EXTRACT(MONTH FROM reg_date) = 9 AND EXTRACT(YEAR FROM reg_date) = 2020'''\n",
    "\n",
    "df = pd.read_sql(sql, con = conn)\n",
    "print(df)\n",
    "  \n",
    "# conn.commit()\n",
    "conn.close()"
   ]
  },
  {
   "attachments": {},
   "cell_type": "markdown",
   "metadata": {},
   "source": [
    "b) What is the average entry amount per member for each day of the week (Monday-Sunday) in the month of September, 2020?"
   ]
  },
  {
   "cell_type": "code",
   "execution_count": 9,
   "metadata": {},
   "outputs": [
    {
     "name": "stdout",
     "output_type": "stream",
     "text": [
      "   avgentry   dayofweek \n",
      "0  315.788505  Saturday \n",
      "1  315.213912  Tuesday  \n",
      "2  313.205777  Wednesday\n",
      "3  312.961514  Friday   \n",
      "4  312.127630  Thursday \n",
      "5  310.576259  Monday   \n",
      "6  308.977429  Sunday   \n"
     ]
    }
   ],
   "source": [
    " \n",
    "conn = psycopg2.connect(database=\"database\",\n",
    "                        user='username', password='password', \n",
    "                        host='127.0.0.1', port='5432'\n",
    ")\n",
    "  \n",
    "conn.autocommit = True\n",
    "cursor = conn.cursor()\n",
    "\n",
    "sql ='''SELECT\n",
    "        AVG(entry_amount) AS AvgEntry,\n",
    "        to_char(entry_date, 'Day') AS DayofWeek \n",
    "        FROM entry_data \n",
    "        WHERE to_char(entry_date, 'Month') = 'September'\n",
    "        GROUP BY DayofWeek \n",
    "        ORDER BY AvgEntry DESC\n",
    "        '''\n",
    "\n",
    "df = pd.read_sql(sql, con = conn)\n",
    "print(df)\n",
    "  \n",
    "# conn.commit()\n",
    "conn.close()"
   ]
  },
  {
   "attachments": {},
   "cell_type": "markdown",
   "metadata": {},
   "source": [
    "c) Create an ordered list of the top 5 most popular players (by total entry amount) and their league in the month of September 2020"
   ]
  },
  {
   "cell_type": "code",
   "execution_count": 10,
   "metadata": {},
   "outputs": [
    {
     "name": "stdout",
     "output_type": "stream",
     "text": [
      "   total_entry player                          league               \n",
      "0  165348.0     Jamal Murray                    NBA                 \n",
      "1  163722.0     Nikola Jokic                    NBA                 \n",
      "2  162286.5     LeBron James                    NBA                 \n",
      "3  159838.5     Jayson Tatum                    NBA                 \n",
      "4  151018.0     Jimmy Butler                    NBA                 \n"
     ]
    }
   ],
   "source": [
    " \n",
    "conn = psycopg2.connect(database=\"database\",\n",
    "                        user='username', password='password', \n",
    "                        host='127.0.0.1', port='5432'\n",
    ")\n",
    "  \n",
    "conn.autocommit = True\n",
    "cursor = conn.cursor()\n",
    "\n",
    "sql ='''SELECT \n",
    "        SUM(entry_amount) AS total_entry,player, \n",
    "        League\n",
    "        FROM entry_data\n",
    "        WHERE to_char(entry_date, 'Month') = 'September'\n",
    "        GROUP BY Player,league\n",
    "        ORDER BY total_entry DESC\n",
    "        LIMIT 5 '''\n",
    "\n",
    "df = pd.read_sql(sql, con = conn)\n",
    "print(df)\n",
    "  \n",
    "# conn.commit()\n",
    "conn.close()"
   ]
  },
  {
   "attachments": {},
   "cell_type": "markdown",
   "metadata": {},
   "source": [
    "d) Determine each user's contribution (by percentage) to the total entry amount for each player.\n",
    "\n"
   ]
  },
  {
   "cell_type": "code",
   "execution_count": 11,
   "metadata": {},
   "outputs": [
    {
     "name": "stdout",
     "output_type": "stream",
     "text": [
      "      player_name                     user_id                                                                                                share   \n",
      "0      A.J. Brown                      339accbe-406e-472d-b57f-c8fde8e68852                                                                  4.513211\n",
      "1      A.J. Brown                      fe1ada22-7eef-4be0-8e45-5aac81a5e97e                                                                  4.703642\n",
      "2      A.J. Brown                      ef58a067-55a6-43a5-95f9-fc00db60a3c4                                                                  2.913592\n",
      "3      A.J. Brown                      ef58a067-55a6-43a5-95f9-fc00db60a3c4                                                                  3.370626\n",
      "4      A.J. Brown                      e7abe9a1-8534-47da-af7b-04b3b1dad18c                                                                  2.556534\n",
      "...                               ...                                                                                                   ...       ...\n",
      "14104  Zach Ertz                       fc343f1d-1812-477c-88d8-8a3b21731d5a                                                                  1.717363\n",
      "14105  Zach Ertz                       fd718ab5-5b37-4ba9-a6ed-96c71124a43f                                                                  1.423859\n",
      "14106  Zach Ertz                       b9f8f4ff-124e-43c2-8497-19182d5f806e                                                                  1.996313\n",
      "14107  Zach Ertz                       993568b2-38c2-4c48-827e-49364ffa99f3                                                                  0.150391\n",
      "14108  Zach Ertz                       896c47c0-1587-4809-964a-33a1033176bf                                                                  1.273468\n",
      "\n",
      "[14109 rows x 3 columns]\n"
     ]
    }
   ],
   "source": [
    " \n",
    "conn = psycopg2.connect(database=\"database\",\n",
    "                        user='username', password='password', \n",
    "                        host='127.0.0.1', port='5432'\n",
    ")\n",
    "  \n",
    "conn.autocommit = True\n",
    "cursor = conn.cursor()\n",
    "\n",
    "sql ='''SELECT \n",
    "        player AS player_name,\n",
    "        user_id,\n",
    "        (entry_amount / sum(entry_amount) over (PARTITION BY player)) * 100 AS share\n",
    "        FROM entry_data;\n",
    "        '''\n",
    "\n",
    "\n",
    "df = pd.read_sql(sql, con = conn)\n",
    "print(df)\n",
    "  \n",
    "# conn.commit()\n",
    "conn.close()\n",
    "\n",
    "\n"
   ]
  }
 ],
 "metadata": {
  "kernelspec": {
   "display_name": "Python 3 (ipykernel)",
   "language": "python",
   "name": "python3"
  },
  "language_info": {
   "codemirror_mode": {
    "name": "ipython",
    "version": 3
   },
   "file_extension": ".py",
   "mimetype": "text/x-python",
   "name": "python",
   "nbconvert_exporter": "python",
   "pygments_lexer": "ipython3",
   "version": "3.10.11"
  }
 },
 "nbformat": 4,
 "nbformat_minor": 4
}
